{
 "cells": [
  {
   "cell_type": "code",
   "execution_count": 2,
   "metadata": {},
   "outputs": [],
   "source": [
    "import matplotlib.pyplot as plt\n",
    "import numpy as np"
   ]
  },
  {
   "cell_type": "markdown",
   "metadata": {},
   "source": [
    "first lets plot the divergence times in box plots"
   ]
  },
  {
   "cell_type": "code",
   "execution_count": 14,
   "metadata": {},
   "outputs": [],
   "source": [
    "div_denovo = [\n",
    "    [0.17351064,7.162010671,11.19040299,18.25348769,493.4724722],\n",
    "    [0.120076007,6.591824094,10.29286908,16.56176424,422.5553212],\n",
    "    [0.051507861,3.712082908,6.167290563,10.35244185,358.0812648],\n",
    "    [0.014943123,4.362742793,7.584988721,12.7243528,424.9749241],\n",
    "    [0.029702049,1.965073075,3.524873503,6.384000171,328.6966471],\n",
    "    [0.002794958,1.690673394,3.405031684,6.311754357,288.754313]\n",
    "]\n",
    "\n",
    "div_ref = [\n",
    "    [0.235163626,10.40387871,16.16648236,25.62759843,846.9649278],\n",
    "    [0.22196893,9.621037359,14.8949308,23.33390339,798.346043],\n",
    "    [0.117864331,6.70444405,11.37679972,18.64411765,681.1543864],\n",
    "    [0.011790248,6.126116044,10.47984533,17.17372156,482.9212762],\n",
    "    [0.018012052,4.03362203,7.095055721,12.04203518,578.6981838],\n",
    "    [0.014166791,4.921695831,9.063064138,15.19875849,429.2944078]\n",
    "]\n",
    "\n",
    "ticks = ['1','2','3','4','5','6']"
   ]
  },
  {
   "cell_type": "code",
   "execution_count": 15,
   "metadata": {},
   "outputs": [],
   "source": [
    "# dictionaries for the de novo and reference means\n",
    "\n",
    "mean_denovo = [\n",
    "    16.02,\n",
    "    14.26,\n",
    "    8.922,\n",
    "    10.56,\n",
    "    5.788,\n",
    "    5.174\n",
    "]\n",
    "\n",
    "mean_ref = [\n",
    "    21.76,\n",
    "    19.56,\n",
    "    15.10,\n",
    "    13.89,\n",
    "    10.04,\n",
    "    11.81\n",
    "]"
   ]
  },
  {
   "cell_type": "code",
   "execution_count": 16,
   "metadata": {},
   "outputs": [],
   "source": [
    "def set_box_color(bp, color):\n",
    "    plt.setp(bp['boxes'], color=color)\n",
    "    plt.setp(bp['whiskers'], color=color)\n",
    "    plt.setp(bp['caps'], color=color)\n",
    "    plt.setp(bp['medians'], color=color)"
   ]
  },
  {
   "cell_type": "code",
   "execution_count": 48,
   "metadata": {},
   "outputs": [
    {
     "data": {
      "image/png": "[encoded data removed]",
      "text/plain": [
       "<Figure size 504x288 with 1 Axes>"
      ]
     },
     "metadata": {
      "needs_background": "light"
     },
     "output_type": "display_data"
    }
   ],
   "source": [
    "# from: https://stackoverflow.com/questions/16592222/matplotlib-group-boxplots\n",
    "fig = plt.figure(figsize=(7,4))\n",
    "\n",
    "positions_denovo = np.array(range(len(div_denovo)))*2.0-0.4\n",
    "positions_ref = np.array(range(len(div_ref)))*2.0+0.4\n",
    "\n",
    "bpl = plt.boxplot(div_denovo, positions=positions_denovo, sym='', widths=0.6)\n",
    "bpr = plt.boxplot(div_ref, positions=positions_ref, sym='', widths=0.6)\n",
    "# plt.plot(mean_denovo, positions=np.array(range(len(mean_denovo)))*2.0-0.4, sym='', widths=0.6)\n",
    "plt.plot(positions_denovo, mean_denovo, 'rs')\n",
    "plt.plot(positions_ref, mean_ref, 'rs')\n",
    "set_box_color(bpl, '#D7191C') # colors are from http://colorbrewer2.org/\n",
    "set_box_color(bpr, '#2C7BB6')\n",
    "\n",
    "plt.plot([], c='#D7191C', label='de novo')\n",
    "plt.plot([], c='#2C7BB6', label='reference')\n",
    "plt.legend()\n",
    "\n",
    "# plt.plot(mean_denovo, positions=np.array(range(len(mean_denovo)))*2.0-0.4, sym='', widths=0.6)\n",
    "plt.xticks(range(0, len(ticks) * 2, 2), ticks)\n",
    "plt.xlabel(\"node\")\n",
    "plt.ylabel(\"time (mya)\")\n",
    "plt.xlim(-2, len(ticks)*2)\n",
    "plt.ylim(0, 30)\n",
    "plt.tight_layout()\n",
    "\n",
    "plt.savefig('divtime_compare.png')"
   ]
  },
  {
   "cell_type": "code",
   "execution_count": 34,
   "metadata": {},
   "outputs": [
    {
     "data": {
      "text/plain": [
       "range(0, 6)"
      ]
     },
     "execution_count": 34,
     "metadata": {},
     "output_type": "execute_result"
    }
   ],
   "source": [
    "range(len(div_denovo))"
   ]
  },
  {
   "cell_type": "markdown",
   "metadata": {},
   "source": [
    "### Now I am plotting the effective population size estimates for both data assemblies"
   ]
  },
  {
   "cell_type": "code",
   "execution_count": 70,
   "metadata": {},
   "outputs": [],
   "source": [
    "pop_denovo = [\n",
    "    [1694.103784,310095.9126,600464.507,873056.0096,12308448.93],\n",
    "    [761.5261518,66524.26938,117016.5839,194876.6958,4306194.084],\n",
    "    [1403.853647,83677.30092,143397.413,233117.5847,5064674.909],\n",
    "    [1106.504876,61062.38355,103591.0308,169137.822,6027567.132],\n",
    "    [629.1711599,66592.59134,107122.9673,165331.3418,4139154.42],\n",
    "    [880.3655213,84525.90641,148635.2164,244685.5222,3795392.72],\n",
    "    [981.3388047,34687.12781,51271.45243,79008.54923,2704374.898],\n",
    "    [983.9994554,102025.3599,164037.9192,252939.1074,4378224.292],\n",
    "    [878.7081077,87750.37631,144829.4019,229548.9217,3212893.458],\n",
    "    [1116.535538,32356.85,52990.97852,87229.34872,2949749.037],\n",
    "    [515.7044613,76731.10494,124179.0662,196195.7426,2773050.23],\n",
    "    [812.8231049,107269.3003,184635.4187,292875.1275,5362758.928],\n",
    "    [1803.559752,67774.81566,107808.3752,167084.6647,2167869.12]\n",
    "]\n",
    "\n",
    "pop_ref = [\n",
    "    [1066.598381,296293.5421,548250.6465,792313.7911,11618893.52],\n",
    "    [595.5311905,69278.31641,120994.3337,201795.2292,3730304.153],\n",
    "    [755.571658,80755.96528,151841.0157,279273.5111,5611861.141],\n",
    "    [342.2104111,73861.30171,127422.8471,208376.2845,3281726.734],\n",
    "    [1238.256024,91963.11519,158326.386,251970.2997,5756061.827],\n",
    "    [734.2303594,72711.11473,127839.758,214576.2149,3842334.646],\n",
    "    [1405.338345,68720.58386,106247.3425,159249.9896,2674309.094],\n",
    "    [542.017,169539.6354,297912.1507,453574.376,6587516.842],\n",
    "    [1059.010452,136215.4339,244871.3313,388947.7066,7802913.392],\n",
    "    [731.9928522,86823.48095,147813.2445,238083.69,3598878.174],\n",
    "    [506.5885998,131004.3534,221240.4197,341539.3638,4127290.651],\n",
    "    [784.8949443,147604.4658,254360.7323,389194.2054,5298099.045],\n",
    "    [1730.704291,131921.8987,223912.9098,342349.4134,4689026.729]\n",
    "]\n",
    "\n",
    "pop_ticks = ['1','2','3','4','5','6','bran','fusi','sagr','oleo','virg','mini','gemi']"
   ]
  },
  {
   "cell_type": "code",
   "execution_count": 51,
   "metadata": {},
   "outputs": [],
   "source": [
    "# dictionaries for the mean effective population values\n",
    "\n",
    "mean_denovo = [\n",
    "    642745.9932,\n",
    "    151427.7392,\n",
    "    180834.0807,\n",
    "    132800.7259,\n",
    "    129735.5233,\n",
    "    188889.5731,\n",
    "    68384.79858,\n",
    "    197848.455,\n",
    "    179398.1956,\n",
    "    71659.81191,\n",
    "    153795.8327,\n",
    "    225053.4124,\n",
    "    131977.2484\n",
    "]\n",
    "\n",
    "mean_ref = [\n",
    "    586068.0525,\n",
    "    157079.0997,\n",
    "    215959.4892,\n",
    "    161233.0377,\n",
    "    193248.1908,\n",
    "    167126.8348,\n",
    "    126071.3784,\n",
    "    342843.3024,\n",
    "    294954.7776,\n",
    "    183416.3713,\n",
    "    261811.879,\n",
    "    296317.1644,\n",
    "    262125.1091\n",
    "]"
   ]
  },
  {
   "cell_type": "code",
   "execution_count": 52,
   "metadata": {},
   "outputs": [],
   "source": [
    "mod_pop_denovo = []\n",
    "mod_pop_ref = []\n",
    "mod_mean_denovo = []\n",
    "mod_mean_ref = []"
   ]
  },
  {
   "cell_type": "code",
   "execution_count": 54,
   "metadata": {},
   "outputs": [],
   "source": [
    "# making list of modified denovo pop size values\n",
    "for lst in pop_denovo:\n",
    "    temp = []\n",
    "    for item in lst:\n",
    "        i = item/1000\n",
    "        temp.append(i)\n",
    "    mod_pop_denovo.append(temp)"
   ]
  },
  {
   "cell_type": "code",
   "execution_count": 56,
   "metadata": {},
   "outputs": [],
   "source": [
    "# making list of modified ref pop size values\n",
    "for lst in pop_ref:\n",
    "    temp = []\n",
    "    for item in lst:\n",
    "        i = item/1000\n",
    "        temp.append(i)\n",
    "    mod_pop_ref.append(temp)"
   ]
  },
  {
   "cell_type": "code",
   "execution_count": 57,
   "metadata": {},
   "outputs": [],
   "source": [
    "for item in mean_denovo:\n",
    "    i = item/1000\n",
    "    mod_mean_denovo.append(i)"
   ]
  },
  {
   "cell_type": "code",
   "execution_count": 58,
   "metadata": {},
   "outputs": [],
   "source": [
    "for item in mean_ref:\n",
    "    i = item/1000\n",
    "    mod_mean_ref.append(i)"
   ]
  },
  {
   "cell_type": "code",
   "execution_count": 72,
   "metadata": {},
   "outputs": [
    {
     "data": {
      "image/png": "[encoded data removed]",
      "text/plain": [
       "<Figure size 1440x288 with 1 Axes>"
      ]
     },
     "metadata": {
      "needs_background": "light"
     },
     "output_type": "display_data"
    }
   ],
   "source": [
    "fig = plt.figure(figsize=(20,4))\n",
    "\n",
    "positions_pop_denovo = np.array(range(len(mod_pop_denovo)))*2.0-0.4\n",
    "positions_pop_ref = np.array(range(len(mod_pop_ref)))*2.0+0.4\n",
    "\n",
    "bpl = plt.boxplot(mod_pop_denovo, positions=positions_pop_denovo, sym='', widths=0.6)\n",
    "bpr = plt.boxplot(mod_pop_ref, positions=positions_pop_ref, sym='', widths=0.6)\n",
    "\n",
    "plt.plot(positions_pop_denovo, mod_mean_denovo, 'rs')\n",
    "plt.plot(positions_pop_ref, mod_mean_ref, 'rs')\n",
    "set_box_color(bpl, '#D7191C') # colors are from http://colorbrewer2.org/\n",
    "set_box_color(bpr, '#2C7BB6')\n",
    "\n",
    "plt.plot([], c='#D7191C', label='de novo')\n",
    "plt.plot([], c='#2C7BB6', label='reference')\n",
    "plt.legend()\n",
    "\n",
    "plt.xticks(range(0, len(pop_ticks) * 2, 2), pop_ticks)\n",
    "plt.xlabel(\"node\")\n",
    "plt.ylabel(\"effective population size (thousand)\")\n",
    "plt.xlim(-2, len(pop_ticks)*2)\n",
    "plt.ylim(0, 900)\n",
    "\n",
    "\n",
    "plt.savefig('popsize_compare.png')"
   ]
  },
  {
   "cell_type": "code",
   "execution_count": null,
   "metadata": {},
   "outputs": [],
   "source": []
  }
 ],
 "metadata": {
  "kernelspec": {
   "display_name": "python 3",
   "language": "python",
   "name": "python3"
  },
  "language_info": {
   "codemirror_mode": {
    "name": "ipython",
    "version": 3
   },
   "file_extension": ".py",
   "mimetype": "text/x-python",
   "name": "python",
   "nbconvert_exporter": "python",
   "pygments_lexer": "ipython3",
   "version": "3.6.7"
  }
 },
 "nbformat": 4,
 "nbformat_minor": 2
}
